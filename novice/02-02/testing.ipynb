{
 "cells": [
  {
   "cell_type": "markdown",
   "metadata": {},
   "source": [
    "# Testing\n",
    "Dalam menulis kode, perlu kita ketahui apa fungsi dari kode dan bagaimana memastikan kode tersebut berjalan. Mengetahui fungsi kode diperlukan agar kode dapat menyelesaikan suatu masalah. Untuk memastikan kode dapat berjalan, maka perlu dilakukan test pada kode. Python sebagai bahasa interpreter, kode python dapat langsung dieksekusi diluar kode memiliki bugs. Berbeda dengan bahasa kompiler, dimana kode harus fix dari bugs agar kode dapat berjalan. Beberapa alasan kenapa perlu testing kode:\n",
    "1. Memastikan kode dapat berjalan sesuai kebutuhan programmer\n",
    "2. Memastikan kode dapat berjalan setelah ada perubahan\n",
    "3. Memastikan kode memenuhi kebutuhan software\n",
    "4. Memastikan kode  dapat di-maintain\n",
    "\n",
    "## Test-Driven Development\n",
    "Adalah paradigma pembuatan software melalui testing. _Write test first_ menjadi mantra dari Test-Driven Development, dimana setiap kode yang ditulis berarti sudah di-test dan setiap kode yang belum di-test dianggap sebagai _broken code_. Pertama kali test dieksekusi harus _**fail**_, sebelum kode dibuat, kemudian kode dibuat untuk memastikan test terlewati. Selanjutnya kita melakukan test lagi untuk membuat kode berikutnya.\n",
    "\n",
    "Testing kode dapat dilakukan secara manual atau otomatis. Untuk melakukan test manual, dibutuhkan: _feature_ dalam program, tipe-tipe input yang dapat diterima dan hasil yang diharapkan. Test otomatis dibuat berdasarkan rencana test berupa script untuk melakukan banyak testing berbagai kode.\n",
    "\n",
    "## Unit Test vs Integration Test\n",
    "Testing kode dapat dilakukan berdasarkan bagian-bagian dalam kode meliputi _**class**_, _**fungsi**_ dan _**module**_.\n",
    "**Unit test** digunakan untuk melakukan test pada satu bagian kode, sedangkan **Integration Test** meliputi beberapa bagian. Python mempunyai library yang dapat digunakan untuk melakukan testing kode. Beberapa library testing dalam Python:\n",
    "1. `unittest`\n",
    "2. `nose2`\n",
    "3. `pytest`"
   ]
  },
  {
   "cell_type": "code",
   "execution_count": 1,
   "metadata": {},
   "outputs": [],
   "source": [
    "# testing live in interactive mode\n",
    "\n",
    "assert sum([1, 2, 3]) == 6 ,  \"Hasilnya harus 6\"     \n",
    "# tidak ada output karena testing benar"
   ]
  },
  {
   "cell_type": "code",
   "execution_count": 2,
   "metadata": {},
   "outputs": [
    {
     "ename": "AssertionError",
     "evalue": "Hasilnya harus 6",
     "output_type": "error",
     "traceback": [
      "\u001b[0;31m---------------------------------------------------------------------------\u001b[0m",
      "\u001b[0;31mAssertionError\u001b[0m                            Traceback (most recent call last)",
      "\u001b[0;32m<ipython-input-2-eaacd346fda3>\u001b[0m in \u001b[0;36m<module>\u001b[0;34m\u001b[0m\n\u001b[0;32m----> 1\u001b[0;31m \u001b[0;32massert\u001b[0m \u001b[0msum\u001b[0m\u001b[0;34m(\u001b[0m\u001b[0;34m(\u001b[0m\u001b[0;36m1\u001b[0m\u001b[0;34m,\u001b[0m \u001b[0;36m2\u001b[0m\u001b[0;34m,\u001b[0m \u001b[0;36m1\u001b[0m\u001b[0;34m)\u001b[0m\u001b[0;34m)\u001b[0m \u001b[0;34m==\u001b[0m \u001b[0;36m6\u001b[0m \u001b[0;34m,\u001b[0m  \u001b[0;34m\"Hasilnya harus 6\"\u001b[0m\u001b[0;34m\u001b[0m\u001b[0;34m\u001b[0m\u001b[0m\n\u001b[0m\u001b[1;32m      2\u001b[0m \u001b[0;31m# output \"Hasilnya harus 6\" keluar, apabila test failure\u001b[0m\u001b[0;34m\u001b[0m\u001b[0;34m\u001b[0m\u001b[0;34m\u001b[0m\u001b[0m\n",
      "\u001b[0;31mAssertionError\u001b[0m: Hasilnya harus 6"
     ]
    }
   ],
   "source": [
    "assert sum((1, 2, 1)) == 6 ,  \"Hasilnya harus 6\" \n",
    "# output \"Hasilnya harus 6\" keluar, apabila test failure"
   ]
  },
  {
   "cell_type": "markdown",
   "metadata": {},
   "source": [
    "#### `unittest`\n",
    "Python mempunyai testing tools built-in yaitu `unittest` untuk membuat dan melakukan unit testing. Contoh melakukan `unittest` pada contoh di atas:"
   ]
  },
  {
   "cell_type": "code",
   "execution_count": null,
   "metadata": {},
   "outputs": [],
   "source": [
    "# 1. import unittest dari standar library\n",
    "import unittest\n",
    "\n",
    "\n",
    "# 2. buat class baru yang inherit dari TestClass\n",
    "class TestSum(unittest.TestCase):\n",
    "    \n",
    "    # 3. setiap unit, dibuat method sendiri, dengan parameter self\n",
    "    def test_sum(self):\n",
    "        \n",
    "        # 4. gunakan assert method yang sesuai\n",
    "        self.assertEqual(sum([1, 2, 3]), 6, \"Hasilnya harus 6\")\n",
    "        \n",
    "    # 3.\n",
    "    def test_sum_tuple(self):\n",
    "        \n",
    "        # 4.\n",
    "        self.assertEqual(sum((1, 2, 1)), 6, 'Hasilnya harus 6')\n",
    "        \n",
    "# 5. masuk entry point untuk menjalankan unittest.main()\n",
    "if __name__ == \"__main__\":\n",
    "    unittest.main()"
   ]
  },
  {
   "cell_type": "markdown",
   "metadata": {},
   "source": [
    "`````\n",
    "/usr/bin/python3.8 /home/elmos/praxs/praxis-academy/novice/02-02/latihan/test_sum_unittest.py\n",
    "\n",
    "\n",
    ".F\n",
    "======================================================================\n",
    "FAIL: test_sum_tuple (__main__.TestSum)\n",
    "----------------------------------------------------------------------\n",
    "Traceback (most recent call last):\n",
    "  File \"/home/elmos/praxs/praxis-academy/novice/02-02/latihan/test_sum_unittest.py\", line 18, in test_sum_tuple\n",
    "    self.assertEqual(sum((1, 2, 1)), 6, 'Hasilnya harus 6')\n",
    "AssertionError: 4 != 6 : Hasilnya harus 6\n",
    "\n",
    "----------------------------------------------------------------------\n",
    "Ran 2 tests in 0.001s\n",
    "\n",
    "FAILED (failures=1)\n",
    "`````"
   ]
  },
  {
   "cell_type": "markdown",
   "metadata": {},
   "source": [
    "* . --> dot di baris pertama menunjukkan test 1 `pass`\n",
    "* F --> di baris pertama menunjukkan test 2 `Failed`\n",
    "* FAIL: test_sum_tuple (__main__.TestSum) --> nama method fail test (test module. Test case nya)\n",
    "* AssertionError: 4 != 6 : Hasilnya harus 6 --> muncul hasil aktual != hasil yang diharapkan, argument error"
   ]
  },
  {
   "cell_type": "markdown",
   "metadata": {},
   "source": [
    "#### `nose2`\n",
    "untuk menggunakan `nose2`, pertama install `nose2` dari PyPI dan dieksekusi lewat command line. nose2 kompatibel dengan test yang ditulis menggunakan `unittest`. `nose2` menjalankan semua script dengan nama **`test*.py`** dan test case yang inherit dari `unittest.TestCase` didalam directory aktif"
   ]
  },
  {
   "cell_type": "markdown",
   "metadata": {},
   "source": [
    "```\n",
    "> pip install nose2\n",
    "✖ python -m nose2 test_sum_unittest\n",
    ".F\n",
    "======================================================================\n",
    "FAIL: test_sum_tuple (test_sum_unittest.TestSum)\n",
    "----------------------------------------------------------------------\n",
    "Traceback (most recent call last):\n",
    "  File \"/home/elmos/praxs/praxis-academy/novice/02-02/latihan/test_sum_unittest.py\", line 18, in test_sum_tuple\n",
    "    self.assertEqual(sum((1, 2, 1)), 6, 'Hasilnya harus 6')\n",
    "AssertionError: 4 != 6 : Hasilnya harus 6\n",
    "\n",
    "----------------------------------------------------------------------\n",
    "Ran 2 tests in 0.000s\n",
    "\n",
    "FAILED (failures=1)\n",
    "\n",
    "```"
   ]
  },
  {
   "cell_type": "markdown",
   "metadata": {},
   "source": [
    "#### `pytest`\n",
    "`pytest` adalah framework testing diluar standar library Python, maka dari itu perlu di install menggunakan pip. `pytest` mendukung `unittest` test case, secara penulisan lebih ringkas yaitu tanpa `TestCase`, class yang digunakan dan command-line entry point. `pytest` test case adalah rangkaian fungsi di file Python yang berawalan **`test_`** .\n",
    "\n",
    "```\n",
    "❯ pytest test_with_pytest.py \n",
    "========================== test session starts ===========================\n",
    "platform linux -- Python 3.8.6, pytest-6.1.1, py-1.9.0, pluggy-0.13.1\n",
    "rootdir: /home/elmos/praxs/praxis-academy/novice/02-02/latihan\n",
    "collected 2 items                                                        \n",
    "\n",
    "test_with_pytest.py .F                                             [100%]\n",
    "\n",
    "================================ FAILURES ================================\n",
    "________________________ TestNumbers.test_int_str ________________________\n",
    "\n",
    "self = <test_with_pytest.TestNumbers object at 0x7f8c279b7d60>\n",
    "\n",
    "    def test_int_str(self):\n",
    ">       assert 1 == \"1\"\n",
    "E       AssertionError: assert 1 == '1'\n",
    "\n",
    "test_with_pytest.py:6: AssertionError\n",
    "======================== short test summary info =========================\n",
    "FAILED test_with_pytest.py::TestNumbers::test_int_str - AssertionError:...\n",
    "====================== 1 failed, 1 passed in 0.16s =======================\n",
    "\n",
    "```"
   ]
  },
  {
   "cell_type": "markdown",
   "metadata": {},
   "source": []
  }
 ],
 "metadata": {
  "kernelspec": {
   "display_name": "Python 3",
   "language": "python",
   "name": "python3"
  },
  "language_info": {
   "codemirror_mode": {
    "name": "ipython",
    "version": 3
   },
   "file_extension": ".py",
   "mimetype": "text/x-python",
   "name": "python",
   "nbconvert_exporter": "python",
   "pygments_lexer": "ipython3",
   "version": "3.8.6"
  }
 },
 "nbformat": 4,
 "nbformat_minor": 4
}
