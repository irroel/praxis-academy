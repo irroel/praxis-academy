{
 "cells": [
  {
   "cell_type": "markdown",
   "metadata": {},
   "source": [
    "# Functional Programming di Python\n",
    "\n",
    " Python merupakan bahasa pemrograman tingkat tinggi, mempunyai standar library lengkap dan mendukung beberapa paradigma pemrograman. Selain paradigma pemrograman prosedural dan pemrograman berorientasi obyek, Python juga mendukung pemrograman fungsional. Pemrograman fungsional adalah paradigma pemrograman yang menekankan penulisan kode dengan fokus `apa` yang diinginkan, bukan `bagaimana` masalah diselesaikan."
   ]
  },
  {
   "cell_type": "code",
   "execution_count": 1,
   "metadata": {},
   "outputs": [
    {
     "name": "stdout",
     "output_type": "stream",
     "text": [
      "--> saat nilai n:3, nilai s:3\n",
      "--> saat nilai n:5, nilai s:8\n",
      "--> saat nilai n:6, nilai s:14\n",
      "--> saat nilai n:9, nilai s:23\n"
     ]
    }
   ],
   "source": [
    "# contoh pemrograman prosedural\n",
    "s = 0\n",
    "for n in range(1,10):\n",
    "    if n % 3 == 0 or n % 5 == 0:\n",
    "        s += n\n",
    "        print(f'--> saat nilai n:{n}, nilai s:{s}')"
   ]
  },
  {
   "cell_type": "markdown",
   "metadata": {},
   "source": [
    "didalam bahasa pemrograman prosedural, `state` dapat berubah-ubah dan di definisikan dari nilai variabel `s` dan `n`."
   ]
  },
  {
   "cell_type": "code",
   "execution_count": 2,
   "metadata": {},
   "outputs": [
    {
     "name": "stdout",
     "output_type": "stream",
     "text": [
      "--> saat nilai n:3, list m:[3]\n",
      "--> saat nilai n:5, list m:[3, 5]\n",
      "--> saat nilai n:6, list m:[3, 5, 6]\n",
      "--> saat nilai n:9, list m:[3, 5, 6, 9]\n",
      "23\n"
     ]
    }
   ],
   "source": [
    "# contoh OOP\n",
    "m = []\n",
    "for n in range(1,10):\n",
    "    if n % 3 == 0 or n % 5 == 0:\n",
    "        m.append(n)\n",
    "        print(f'--> saat nilai n:{n}, list m:{m}')\n",
    "print(sum(m))"
   ]
  },
  {
   "cell_type": "code",
   "execution_count": 3,
   "metadata": {},
   "outputs": [
    {
     "data": {
      "text/plain": [
       "23"
      ]
     },
     "execution_count": 3,
     "metadata": {},
     "output_type": "execute_result"
    }
   ],
   "source": [
    "class Penjumlahan_List(list):\n",
    "    def sum(self):\n",
    "        s = 0\n",
    "        for v in self:\n",
    "            s += v\n",
    "        return s\n",
    "\n",
    "m = Penjumlahan_List(m)\n",
    "m.sum()"
   ]
  },
  {
   "cell_type": "code",
   "execution_count": 4,
   "metadata": {},
   "outputs": [
    {
     "name": "stdout",
     "output_type": "stream",
     "text": [
      "33\n"
     ]
    }
   ],
   "source": [
    "# fungsi murni\n",
    "print(sum(n for n in range(1, 11) if n % 3 == 0 or n % 5 == 0))"
   ]
  },
  {
   "cell_type": "markdown",
   "metadata": {},
   "source": [
    "# Konsep Dasar Pemrograman  Fungsional\n",
    "1. Pure Functions.\n",
    "> tidak mempunyai efek samping(tidak merubah state), output akan tetap sama apabila dieksekusi berkali-kali\n",
    "2. Immutability.\n",
    "> tidak dapat berubah\n",
    "3. Higher Order Functions.\n",
    "> fungsi dapat diterapkan sebagai parameter dan menghasilkan output berupa fungsi"
   ]
  },
  {
   "cell_type": "markdown",
   "metadata": {},
   "source": [
    "Python bukan bahasa pemrograman fungsional sepenuhnya, akan tetapi Python mendukung / mengadopsi paradigma didalam pemrograman fungsional, berikut contohnya:"
   ]
  },
  {
   "cell_type": "markdown",
   "metadata": {},
   "source": [
    "#### 1. Lambda\n",
    "`lambda` atau **_anonymous-functions_** digunakan untuk membuat fungsi dapat di `assign` dalam variabel. Ketika variabel dipanggil, secara otomatis akan menjalankan **_anonymous-functions_**-nya."
   ]
  },
  {
   "cell_type": "code",
   "execution_count": 5,
   "metadata": {},
   "outputs": [
    {
     "name": "stdout",
     "output_type": "stream",
     "text": [
      "9\n",
      "Tipe variabel <class 'function'>\n"
     ]
    }
   ],
   "source": [
    "a = lambda x: x**2\n",
    "print(a(3))\n",
    "print(f'Tipe variabel {type(a)}')"
   ]
  },
  {
   "cell_type": "markdown",
   "metadata": {},
   "source": [
    "#### 2. First-Class Functions\n",
    "Semua di dalam Python merupakan obyek, tidak terkecuali fungsi. "
   ]
  },
  {
   "cell_type": "code",
   "execution_count": 6,
   "metadata": {},
   "outputs": [
    {
     "name": "stdout",
     "output_type": "stream",
     "text": [
      "9\n",
      "Tipe fungsi b: <class 'function'>\n"
     ]
    }
   ],
   "source": [
    "def b(c):\n",
    "    return c**2\n",
    "print(b(3))\n",
    "print(f'Tipe fungsi b: {type(b)}')"
   ]
  },
  {
   "cell_type": "markdown",
   "metadata": {},
   "source": [
    "#### 3. Higher-Order Functions\n",
    "Fungsi dalam Python dapat menerima fungsi lain sebagai parameter, atau mengembalikan fungsi lain sebagai value nya.\n",
    "#### **map**\n",
    "fungsi `map` berguna untuk mengaplikasikan fungsi lain ke setiap elemen di `iterable object`"
   ]
  },
  {
   "cell_type": "code",
   "execution_count": 7,
   "metadata": {},
   "outputs": [
    {
     "name": "stdout",
     "output_type": "stream",
     "text": [
      "<map object at 0x7fbefc288970>\n",
      "Hello Python !!\n",
      "Hello Javascript !!\n",
      "Hello Ruby !!\n",
      "Hello PHP !!\n",
      "Hello Golang !!\n"
     ]
    }
   ],
   "source": [
    "nama = ['Python', 'Javascript', 'Ruby', 'PHP', 'Golang']\n",
    "nama_map = map(lambda x: f'Hello {x} !!', nama)\n",
    "print(nama_map)\n",
    "for name in nama_map:\n",
    "    print(name)"
   ]
  },
  {
   "cell_type": "markdown",
   "metadata": {},
   "source": [
    "#### **filter**\n",
    "Fungsi filter mengaplikasikan fungsi ke setiap elemen _iterable-object_, menghasilkan `True` atau `False` dan hanya menyisakan `True` saja."
   ]
  },
  {
   "cell_type": "code",
   "execution_count": 8,
   "metadata": {},
   "outputs": [
    {
     "name": "stdout",
     "output_type": "stream",
     "text": [
      "[35]\n"
     ]
    }
   ],
   "source": [
    "numbers = [13, 4, 18, 35]\n",
    "div_by_5 = filter(lambda num: num % 5 == 0, numbers)\n",
    "print(list(div_by_5))"
   ]
  },
  {
   "cell_type": "markdown",
   "metadata": {},
   "source": [
    "#### **reduce***"
   ]
  },
  {
   "cell_type": "code",
   "execution_count": 9,
   "metadata": {},
   "outputs": [
    {
     "name": "stdout",
     "output_type": "stream",
     "text": [
      "15\n"
     ]
    }
   ],
   "source": [
    "from functools import reduce\n",
    "d = [1, 2, 3, 4, 5]\n",
    "reduce_d = reduce(lambda x, y: x + y, d)\n",
    "print(reduce_d)"
   ]
  },
  {
   "cell_type": "markdown",
   "metadata": {},
   "source": [
    "## Kelebihan Pemrograman Fungsional\n",
    "1. Kode ringkas\n",
    "> menulis kode lebih sedikit akan mempermudah maintain, mudah dipahami.\n",
    "2. Tidak ada efek samping\n",
    "> apabila diberikan data dan dieksekusi berkali-kali akan menghasilkan output yang sama\n",
    "3. Rekursif\n",
    "> rekursi dapat digunakan untuk mengontrol stuktur, membuat iteratif lebih ringkas dan ekspresif"
   ]
  },
  {
   "cell_type": "markdown",
   "metadata": {},
   "source": [
    "# Kasus"
   ]
  }
 ],
 "metadata": {
  "kernelspec": {
   "display_name": "Python 3",
   "language": "python",
   "name": "python3"
  },
  "language_info": {
   "codemirror_mode": {
    "name": "ipython",
    "version": 3
   },
   "file_extension": ".py",
   "mimetype": "text/x-python",
   "name": "python",
   "nbconvert_exporter": "python",
   "pygments_lexer": "ipython3",
   "version": "3.8.6"
  }
 },
 "nbformat": 4,
 "nbformat_minor": 4
}
